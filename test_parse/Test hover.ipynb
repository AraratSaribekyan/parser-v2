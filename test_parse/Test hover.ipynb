{
 "cells": [
  {
   "cell_type": "code",
   "execution_count": 1,
   "id": "8713da4c",
   "metadata": {},
   "outputs": [],
   "source": [
    "from selenium import webdriver as wd\n",
    "from selenium.webdriver.common.action_chains import ActionChains\n",
    "\n",
    "import os\n",
    "import time\n",
    "import multiprocessing as mp"
   ]
  },
  {
   "cell_type": "code",
   "execution_count": 2,
   "id": "06f58e2a",
   "metadata": {},
   "outputs": [],
   "source": [
    "USER_AGENT = \"Mozilla/5.0 (X11; Linux x86_64) AppleWebKit/537.36 (KHTML, like Gecko) Chrome/60.0.3112.50 Safari/537.36\"\n",
    "DRIVER_PATH = \"/home/anubis/Desktop/parser v2/chromedriver\"\n",
    "N_PROCESSES = 10\n",
    "HOVER_SCRIPT = \"var evObj = document.createEvent('MouseEvents');\" \\\n",
    "              \"evObj.initMouseEvent('mouseover', true, false, window, 0, 0, 0, 0, 0, false, false, false, false, 0, null);\" \\\n",
    "              \"arguments[0].dispatchEvent(evObj);\"\n",
    "\n",
    "options = wd.ChromeOptions()\n",
    "options.add_argument(f\"user-agent={USER_AGENT}\")\n",
    "options.add_argument(\"--headless\")\n",
    "options.add_argument(\"--disable-gpu\")\n",
    "options.add_argument(\"--no-sandbox\")\n",
    "options.add_argument(\"--window-size=1920,1080\")"
   ]
  },
  {
   "cell_type": "code",
   "execution_count": 112,
   "id": "b4045783",
   "metadata": {},
   "outputs": [],
   "source": [
    "driver = wd.Chrome(executable_path=DRIVER_PATH, options=options)\n",
    "driver.maximize_window()\n",
    "driver.get(\"https://www.zalando.co.uk/superdry-vintage-surf-ranchero-vest-top-desert-beige-su221e0g7-e11.html\")\n",
    "time.sleep(3)"
   ]
  },
  {
   "cell_type": "code",
   "execution_count": 113,
   "id": "ebe3b255",
   "metadata": {},
   "outputs": [],
   "source": [
    "with open(\"test.html\", \"w\") as fd:\n",
    "    fd.write(driver.page_source)"
   ]
  },
  {
   "cell_type": "code",
   "execution_count": 114,
   "id": "0ab28bf3",
   "metadata": {},
   "outputs": [
    {
     "name": "stdout",
     "output_type": "stream",
     "text": [
      "2\n"
     ]
    }
   ],
   "source": [
    "imgs_before = driver.find_elements_by_xpath(f\"//li[@class='LiPgRT DlJ4rT S3xARh']//div//div//div//img\")\n",
    "print(len(imgs_before))"
   ]
  },
  {
   "cell_type": "code",
   "execution_count": 115,
   "id": "e1095cff",
   "metadata": {},
   "outputs": [
    {
     "name": "stdout",
     "output_type": "stream",
     "text": [
      "6\n"
     ]
    }
   ],
   "source": [
    "imgs = driver.find_elements_by_xpath(f\"//li[@class = 'LiPgRT DlJ4rT Zhr-fS']//div//button//div//div//img\")\n",
    "print(len(imgs))"
   ]
  },
  {
   "cell_type": "code",
   "execution_count": 116,
   "id": "7daca4d8",
   "metadata": {},
   "outputs": [
    {
     "name": "stdout",
     "output_type": "stream",
     "text": [
      "CPU times: user 1 µs, sys: 1 µs, total: 2 µs\n",
      "Wall time: 2.38 µs\n"
     ]
    }
   ],
   "source": [
    "%time\n",
    "actions = ActionChains(driver)\n",
    "actions.w3c_actions.pointer_action._duration=0\n",
    "# for img in imgs:\n",
    "#     actions.move_to_element(img).perform()\n",
    "actions.move_to_element(imgs[-1]).perform()\n",
    "imgs_after = driver.find_elements_by_xpath(f\"// li[@class='LiPgRT DlJ4rT S3xARh']//div//div//div//img\")\n",
    "if len(imgs_after)==len(imgs_before) and len(imgs_before)<len(imgs):\n",
    "    actions.move_to_element(imgs[-2]).perform()\n",
    "with open(\"test1.html\", \"w\") as fd:\n",
    "    fd.write(driver.page_source)"
   ]
  },
  {
   "cell_type": "code",
   "execution_count": 117,
   "id": "95a77554",
   "metadata": {},
   "outputs": [
    {
     "name": "stdout",
     "output_type": "stream",
     "text": [
      "6\n"
     ]
    }
   ],
   "source": [
    "imgs_after = driver.find_elements_by_xpath(f\"// li[@class='LiPgRT DlJ4rT S3xARh']//div//div//div//img\")\n",
    "print(len(imgs_after))"
   ]
  },
  {
   "cell_type": "code",
   "execution_count": null,
   "id": "afa21fee",
   "metadata": {},
   "outputs": [],
   "source": []
  }
 ],
 "metadata": {
  "kernelspec": {
   "display_name": "Python 3 (ipykernel)",
   "language": "python",
   "name": "python3"
  },
  "language_info": {
   "codemirror_mode": {
    "name": "ipython",
    "version": 3
   },
   "file_extension": ".py",
   "mimetype": "text/x-python",
   "name": "python",
   "nbconvert_exporter": "python",
   "pygments_lexer": "ipython3",
   "version": "3.11.3"
  }
 },
 "nbformat": 4,
 "nbformat_minor": 5
}
